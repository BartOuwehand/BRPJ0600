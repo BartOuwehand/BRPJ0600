{
 "cells": [
  {
   "cell_type": "markdown",
   "metadata": {},
   "source": [
    "#### Script 2"
   ]
  },
  {
   "cell_type": "code",
   "execution_count": 1,
   "metadata": {},
   "outputs": [],
   "source": [
    "import numpy as np\n",
    "import matplotlib.pyplot as plt\n",
    "from astropy.io import fits\n",
    "from astropy import wcs\n",
    "from astropy.io import ascii\n",
    "from astropy.table import Table, Column, MaskedColumn\n",
    "%matplotlib inline\n",
    "\n",
    "SMALL_SIZE = 10*2                                        \n",
    "MEDIUM_SIZE = 12*2\n",
    "BIGGER_SIZE = 14*2\n",
    "\n",
    "plt.rc('font', size=SMALL_SIZE, family='serif')          # controls default text sizes\n",
    "plt.rc('axes', titlesize=SMALL_SIZE)                     # fontsize of the axes title\n",
    "plt.rc('axes', labelsize=MEDIUM_SIZE)                    # fontsize of the x and y labels\n",
    "plt.rc('xtick', labelsize=SMALL_SIZE, direction='in')    # fontsize of the tick labels\n",
    "plt.rc('ytick', labelsize=SMALL_SIZE, direction='in')    # fontsize of the tick labels\n",
    "plt.rc('legend', fontsize=SMALL_SIZE)                    # legend fontsize\n",
    "plt.rc('figure', titlesize=BIGGER_SIZE)                  # fontsize of the figure title\n",
    "plt.rc('figure', figsize='8, 6')                         # size of the figure, used to be '4, 3' in inches\n",
    "\n",
    "\n",
    "# script 2 - takes in standards.txt and a list of FITS files\n",
    "#\n",
    "# write out for each image:\n",
    "# loop throuhg the standards stars:\n",
    "#     find the photometry from the current FITS image\n",
    "#     IF star is not found (or bad data) write out NaN in the column\n",
    "#\n",
    "# write out for each image file:\n",
    "#\n",
    "# the name of the image file, the EPOCH, the FILTER, the AIRMASS, the FLUX and FLUXERR of J0600, (FLUX and FLUXERR for 20 stars)\n",
    "# use and ECSV format (because it remembers the names of the columns and deals with 'Quantity' columns too....)\n",
    "\n",
    "\n",
    "# make a plot of flux versus epoch (which is in MJD) for "
   ]
  },
  {
   "cell_type": "code",
   "execution_count": 2,
   "metadata": {},
   "outputs": [
    {
     "name": "stdout",
     "output_type": "stream",
     "text": [
      "Number of stars = 44\n",
      "Epoch = 59226.45471 MJD\n",
      "Filter = gp\n",
      "AIRMASS = 1.07476\n"
     ]
    }
   ],
   "source": [
    "# First write out for one file:\n",
    "#  the name of the image file, the EPOCH, the FILTER, the AIRMASS, the FLUX and FLUXERR of J0600, (FLUX and FLUXERR for 20 stars)\n",
    "#  use and ECSV format (because it remembers the names of the columns and deals with 'Quantity' columns too....)\n",
    "\n",
    "standards = ascii.read(\"standards.txt\", guess=False)\n",
    "coord_world = np.array([standards['RA'],standards['Dec']]).transpose()\n",
    "nr_stars = len(coord_world[:,0])\n",
    "print('Number of stars = {}'.format(nr_stars))\n",
    "\n",
    "\n",
    "filename = '..//data/coj1m003-fa19-20210112-0083-e91.fits.fz'\n",
    "\n",
    "hdu1 = fits.open(filename)\n",
    "\n",
    "imh = hdu1['SCI'].header\n",
    "phot = hdu1['cat'].data\n",
    "\n",
    "epoch = imh['MJD-OBS']\n",
    "obs_filter = imh['FILTER']\n",
    "airmass = imh['AIRMASS']\n",
    "pix_asec = imh['PIXSCALE'] # Nominal pixel scale on sky [arcsec/pixel]\n",
    "print('Epoch = {:.5f} MJD'.format(epoch))\n",
    "print('Filter = {}'.format(obs_filter))\n",
    "print('AIRMASS = {:.5f}'.format(airmass))"
   ]
  },
  {
   "cell_type": "code",
   "execution_count": 3,
   "metadata": {},
   "outputs": [
    {
     "name": "stderr",
     "output_type": "stream",
     "text": [
      "WARNING: FITSFixedWarning: 'obsfix' made the change 'Set OBSGEO-L to   149.070764 from OBSGEO-[XYZ].\n",
      "Set OBSGEO-B to   -31.273025 from OBSGEO-[XYZ].\n",
      "Set OBSGEO-H to     1164.993 from OBSGEO-[XYZ]'. [astropy.wcs.wcs]\n"
     ]
    }
   ],
   "source": [
    "# Transform coordinates from realworld to pixels in image\n",
    "w = wcs.WCS(hdu1['SCI'].header)\n",
    "\n",
    "coord = w.wcs_world2pix(coord_world,0)"
   ]
  },
  {
   "cell_type": "code",
   "execution_count": 4,
   "metadata": {},
   "outputs": [
    {
     "data": {
      "image/png": "[encoded data removed]",
      "text/plain": [
       "<Figure size 576x432 with 1 Axes>"
      ]
     },
     "metadata": {
      "needs_background": "light"
     },
     "output_type": "display_data"
    }
   ],
   "source": [
    "# functie(lijst met pixel_coordinaten van standards, lijst met pixel coordinaten huidige sterren):\n",
    "#   reken afstanden uit\n",
    "#   Test of afstand voldoende klein is (print afstanden)\n",
    "#   \n",
    "#   return index dichtbijzijndste ster voor elke ingevoerde ster\n",
    "\n",
    "def find_stars(xobj_list, yobj_list, xlist, ylist):\n",
    "    #print (xobj_list)\n",
    "    #print (yobj_list)\n",
    "    #print (xlist)\n",
    "    #print (ylist)\n",
    "    \n",
    "    plt.scatter(xlist-2048,ylist-2048,c='b',)\n",
    "    plt.scatter(xobj_list-2048, yobj_list-2048, c='grey',marker='.')\n",
    "    #plt.axis(xmin=-800,xmax=800,ymin=-800,ymax=800)\n",
    "    plt.show()\n",
    "    \n",
    "    # Make a matrix with each column the same xlist or ylist.\n",
    "    # The number of columns is the number of objects in standards.txt\n",
    "    xmatrix = np.array(list(xlist)*len(xobj_list)).reshape([len(xobj_list),len(xlist)]).transpose()\n",
    "    ymatrix = np.array(list(ylist)*len(yobj_list)).reshape([len(yobj_list),len(ylist)]).transpose()\n",
    "    \n",
    "    distance_matrix = np.sqrt((xmatrix-xobj_list)**2 + (ymatrix-yobj_list)**2)\n",
    "    \n",
    "    indices = np.argmin(distance_matrix, axis=0)\n",
    "    \n",
    "    return indices, np.diag(distance_matrix[indices]) #the daigonal gives the distance from each point to the star\n",
    "\n",
    "\n",
    "stars_arg, d = find_stars(coord[:,0],coord[:,1], phot['x'], phot['y'])"
   ]
  },
  {
   "cell_type": "code",
   "execution_count": 5,
   "metadata": {},
   "outputs": [],
   "source": [
    "# Getting the flux & fluxerr values for the different stars\n",
    "flux_stars = phot['flux'][stars_arg]\n",
    "fluxerr_stars = phot['fluxerr'][stars_arg]"
   ]
  },
  {
   "cell_type": "code",
   "execution_count": 6,
   "metadata": {},
   "outputs": [],
   "source": [
    "newfilename = filename.replace('data','datared').replace('.fits.fz', '.txt')\n",
    "\n",
    "\n",
    "#VERY cheap fix for \"ValueError: Inconsistent data column lengths: {1, 44}\", must be a better way\n",
    "# maybe use 2 different files, maybe\n",
    "nanlist = [np.NaN]*(nr_stars-1)\n",
    "\n",
    "obj = [filename.replace('..//data/','').replace('fits.fz','')]\n",
    "obj.extend(nanlist)\n",
    "epoch = [imh['MJD-OBS']]\n",
    "epoch.extend(nanlist)\n",
    "obs_filter = [imh['FILTER']]\n",
    "obs_filter.extend(nanlist)\n",
    "airmass = [imh['AIRMASS']]\n",
    "airmass.extend(nanlist)\n",
    "\n",
    "\n",
    "# Write data to Table and then to file\n",
    "filecontent = Table([obj, epoch, obs_filter, airmass, flux_stars, fluxerr_stars],\\\n",
    "                    names=['IMAGE','EPOCH','FILTER','AIRMASS','FLUX','FLUXERR'])\n",
    "ascii.write(filecontent, newfilename, overwrite=True)"
   ]
  },
  {
   "cell_type": "code",
   "execution_count": 7,
   "metadata": {
    "scrolled": true
   },
   "outputs": [
    {
     "name": "stdout",
     "output_type": "stream",
     "text": [
      "../data/coj1m003-fa19-20210113-0098-e91.fits.fz\n",
      "../datared/coj1m003-fa19-20210113-0098-e91.fits.fz\n",
      "../data/coj1m011-fa12-20210111-0235-e91.fits.fz\n",
      "../datared/coj1m011-fa12-20210111-0235-e91.fits.fz\n",
      "../data/coj1m003-fa19-20210112-0084-e91.fits.fz\n",
      "../datared/coj1m003-fa19-20210112-0084-e91.fits.fz\n",
      "../data/coj1m003-fa19-20210117-0070-e91.fits.fz\n",
      "../datared/coj1m003-fa19-20210117-0070-e91.fits.fz\n",
      "../data/coj1m011-fa12-20210116-0174-e91.fits.fz\n",
      "../datared/coj1m011-fa12-20210116-0174-e91.fits.fz\n",
      "../data/lsc1m004-fa03-20210111-0142-e91.fits.fz\n",
      "../datared/lsc1m004-fa03-20210111-0142-e91.fits.fz\n",
      "../data/cpt1m012-fa06-20210118-0060-e91.fits.fz\n",
      "../datared/cpt1m012-fa06-20210118-0060-e91.fits.fz\n",
      "../data/lsc1m004-fa03-20210111-0141-e91.fits.fz\n",
      "../datared/lsc1m004-fa03-20210111-0141-e91.fits.fz\n",
      "../data/coj1m011-fa12-20210112-0135-e91.fits.fz\n",
      "../datared/coj1m011-fa12-20210112-0135-e91.fits.fz\n",
      "../data/coj1m003-fa19-20210113-0096-e91.fits.fz\n",
      "../datared/coj1m003-fa19-20210113-0096-e91.fits.fz\n",
      "../data/lsc1m005-fa15-20210111-0074-e91.fits.fz\n",
      "../datared/lsc1m005-fa15-20210111-0074-e91.fits.fz\n",
      "../data/lsc1m004-fa03-20210116-0132-e91.fits.fz\n",
      "../datared/lsc1m004-fa03-20210116-0132-e91.fits.fz\n",
      "../data/cpt1m013-fa14-20210111-0063-e91.fits.fz\n",
      "../datared/cpt1m013-fa14-20210111-0063-e91.fits.fz\n",
      "../data/lsc1m004-fa03-20210111-0191-e91.fits.fz\n",
      "../datared/lsc1m004-fa03-20210111-0191-e91.fits.fz\n",
      "../data/coj1m011-fa12-20210113-0148-e91.fits.fz\n",
      "../datared/coj1m011-fa12-20210113-0148-e91.fits.fz\n",
      "../data/cpt1m013-fa14-20210111-0061-e91.fits.fz\n",
      "../datared/cpt1m013-fa14-20210111-0061-e91.fits.fz\n",
      "../data/cpt1m012-fa06-20210118-0059-e91.fits.fz\n",
      "../datared/cpt1m012-fa06-20210118-0059-e91.fits.fz\n",
      "../data/coj1m011-fa12-20210111-0234-e91.fits.fz\n",
      "../datared/coj1m011-fa12-20210111-0234-e91.fits.fz\n",
      "../data/coj1m003-fa19-20210113-0097-e91.fits.fz\n",
      "../datared/coj1m003-fa19-20210113-0097-e91.fits.fz\n",
      "../data/lsc1m005-fa15-20210111-0072-e91.fits.fz\n",
      "../datared/lsc1m005-fa15-20210111-0072-e91.fits.fz\n",
      "../data/lsc1m005-fa15-20210111-0073-e91.fits.fz\n",
      "../datared/lsc1m005-fa15-20210111-0073-e91.fits.fz\n",
      "../data/lsc1m004-fa03-20210112-0110-e91.fits.fz\n",
      "../datared/lsc1m004-fa03-20210112-0110-e91.fits.fz\n",
      "../data/cpt1m013-fa14-20210111-0062-e91.fits.fz\n",
      "../datared/cpt1m013-fa14-20210111-0062-e91.fits.fz\n",
      "../data/coj1m003-fa19-20210112-0083-e91.fits.fz\n",
      "../datared/coj1m003-fa19-20210112-0083-e91.fits.fz\n",
      "../data/coj1m011-fa12-20210113-0150-e91.fits.fz\n",
      "../datared/coj1m011-fa12-20210113-0150-e91.fits.fz\n",
      "../data/coj1m003-fa19-20210112-0085-e91.fits.fz\n",
      "../datared/coj1m003-fa19-20210112-0085-e91.fits.fz\n",
      "../data/lsc1m004-fa03-20210111-0190-e91.fits.fz\n",
      "../datared/lsc1m004-fa03-20210111-0190-e91.fits.fz\n",
      "../data/coj1m011-fa12-20210112-0134-e91.fits.fz\n",
      "../datared/coj1m011-fa12-20210112-0134-e91.fits.fz\n",
      "../data/coj1m011-fa12-20210116-0173-e91.fits.fz\n",
      "../datared/coj1m011-fa12-20210116-0173-e91.fits.fz\n",
      "../data/coj1m011-fa12-20210112-0136-e91.fits.fz\n",
      "../datared/coj1m011-fa12-20210112-0136-e91.fits.fz\n",
      "../data/cpt1m012-fa06-20210120-0091-e91.fits.fz\n",
      "../datared/cpt1m012-fa06-20210120-0091-e91.fits.fz\n",
      "../data/lsc1m004-fa03-20210112-0111-e91.fits.fz\n",
      "../datared/lsc1m004-fa03-20210112-0111-e91.fits.fz\n",
      "../data/coj1m011-fa12-20210111-0236-e91.fits.fz\n",
      "../datared/coj1m011-fa12-20210111-0236-e91.fits.fz\n",
      "../data/cpt1m012-fa06-20210120-0092-e91.fits.fz\n",
      "../datared/cpt1m012-fa06-20210120-0092-e91.fits.fz\n",
      "../data/lsc1m004-fa03-20210116-0133-e91.fits.fz\n",
      "../datared/lsc1m004-fa03-20210116-0133-e91.fits.fz\n",
      "../data/coj1m003-fa19-20210117-0068-e91.fits.fz\n",
      "../datared/coj1m003-fa19-20210117-0068-e91.fits.fz\n",
      "../data/coj1m011-fa12-20210113-0149-e91.fits.fz\n",
      "../datared/coj1m011-fa12-20210113-0149-e91.fits.fz\n",
      "../data/lsc1m004-fa03-20210112-0112-e91.fits.fz\n",
      "../datared/lsc1m004-fa03-20210112-0112-e91.fits.fz\n",
      "../data/cpt1m012-fa06-20210118-0058-e91.fits.fz\n",
      "../datared/cpt1m012-fa06-20210118-0058-e91.fits.fz\n",
      "../data/coj1m003-fa19-20210117-0069-e91.fits.fz\n",
      "../datared/coj1m003-fa19-20210117-0069-e91.fits.fz\n",
      "../data/lsc1m004-fa03-20210111-0140-e91.fits.fz\n",
      "../datared/lsc1m004-fa03-20210111-0140-e91.fits.fz\n",
      "../data/coj1m011-fa12-20210116-0175-e91.fits.fz\n",
      "../datared/coj1m011-fa12-20210116-0175-e91.fits.fz\n",
      "../data/coj1m003-fa19-20210116-0390-e91.fits.fz\n",
      "../datared/coj1m003-fa19-20210116-0390-e91.fits.fz\n",
      "../data/lsc1m004-fa03-20210111-0192-e91.fits.fz\n",
      "../datared/lsc1m004-fa03-20210111-0192-e91.fits.fz\n",
      "../data/lsc1m004-fa03-20210116-0131-e91.fits.fz\n",
      "../datared/lsc1m004-fa03-20210116-0131-e91.fits.fz\n"
     ]
    }
   ],
   "source": [
    "#use this code to select all images\n",
    "from pathlib import Path\n",
    "\n",
    "#selects all names in ../data/\n",
    "for name in Path('..//data/').rglob('*e91.fits.fz'):\n",
    "    print (name)\n",
    "    print (str(name).replace('data','datared'))"
   ]
  },
  {
   "cell_type": "code",
   "execution_count": 8,
   "metadata": {},
   "outputs": [
    {
     "name": "stdout",
     "output_type": "stream",
     "text": [
      "['d', 20, 814653.5]\n"
     ]
    }
   ],
   "source": [
    "names = []\n",
    "names.append('d')\n",
    "names.append(20)\n",
    "names.append(814653.5)\n",
    "print (names)\n",
    "\n",
    "enzo = []\n",
    "enzo.append('Units')\n",
    "enzo.append(132)\n",
    "enzo.append(1213.56146)"
   ]
  },
  {
   "cell_type": "code",
   "execution_count": 35,
   "metadata": {},
   "outputs": [
    {
     "name": "stdout",
     "output_type": "stream",
     "text": [
      "[['d', 20, 814653.5], ['Units', 132, 1213.56146]]\n",
      "['d', 20, 814653.5]\n"
     ]
    }
   ],
   "source": [
    "AAAH = []\n",
    "AAAH.append(names)\n",
    "AAAH.append(enzo)\n",
    "print (AAAH)\n"
   ]
  },
  {
   "cell_type": "code",
   "execution_count": 31,
   "metadata": {},
   "outputs": [
    {
     "name": "stdout",
     "output_type": "stream",
     "text": [
      "12\n",
      "12.34567\n"
     ]
    }
   ],
   "source": [
    "from math import trunc\n",
    "\n",
    "a = 12.3456789\n",
    "print (trunc(a))\n",
    "print (trunc(a*1e5)*1e-5)"
   ]
  },
  {
   "cell_type": "code",
   "execution_count": 20,
   "metadata": {},
   "outputs": [
    {
     "ename": "TypeError",
     "evalue": "object of type 'generator' has no len()",
     "output_type": "error",
     "traceback": [
      "\u001b[0;31m---------------------------------------------------------------------\u001b[0m",
      "\u001b[0;31mTypeError\u001b[0m                           Traceback (most recent call last)",
      "\u001b[0;32m<ipython-input-20-18382df418d0>\u001b[0m in \u001b[0;36m<module>\u001b[0;34m\u001b[0m\n\u001b[0;32m----> 1\u001b[0;31m \u001b[0mprint\u001b[0m \u001b[0;34m(\u001b[0m\u001b[0mlen\u001b[0m\u001b[0;34m(\u001b[0m\u001b[0mPath\u001b[0m\u001b[0;34m(\u001b[0m\u001b[0;34m'..//data/'\u001b[0m\u001b[0;34m)\u001b[0m\u001b[0;34m.\u001b[0m\u001b[0mrglob\u001b[0m\u001b[0;34m(\u001b[0m\u001b[0;34m'*e91.fits.fz'\u001b[0m\u001b[0;34m)\u001b[0m\u001b[0;34m)\u001b[0m\u001b[0;34m)\u001b[0m\u001b[0;34m\u001b[0m\u001b[0;34m\u001b[0m\u001b[0m\n\u001b[0m",
      "\u001b[0;31mTypeError\u001b[0m: object of type 'generator' has no len()"
     ]
    }
   ],
   "source": []
  },
  {
   "cell_type": "code",
   "execution_count": null,
   "metadata": {},
   "outputs": [],
   "source": []
  }
 ],
 "metadata": {
  "kernelspec": {
   "display_name": "Python 3",
   "language": "python",
   "name": "python3"
  },
  "language_info": {
   "codemirror_mode": {
    "name": "ipython",
    "version": 3
   },
   "file_extension": ".py",
   "mimetype": "text/x-python",
   "name": "python",
   "nbconvert_exporter": "python",
   "pygments_lexer": "ipython3",
   "version": "3.8.5"
  }
 },
 "nbformat": 4,
 "nbformat_minor": 4
}
