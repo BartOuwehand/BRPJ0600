{
 "cells": [
  {
   "cell_type": "markdown",
   "metadata": {},
   "source": [
    "# Find gaia magnitudes of reference stars"
   ]
  },
  {
   "cell_type": "code",
   "execution_count": null,
   "metadata": {},
   "outputs": [],
   "source": [
    "# To link the correct Gaia entries to our stars, select star with nearest coordinates\n",
    "def find_stars(xobj_list, yobj_list, xlist, ylist):\n",
    "    # Make a matrix with each column the same xlist or ylist.\n",
    "    # The number of columns is the number of objects in standards.txt\n",
    "    xmatrix = np.array(list(xlist)*len(xobj_list)).reshape([len(xobj_list),len(xlist)]).transpose()\n",
    "    ymatrix = np.array(list(ylist)*len(yobj_list)).reshape([len(yobj_list),len(ylist)]).transpose()\n",
    "    \n",
    "    distance_matrix = np.sqrt((xmatrix-xobj_list)**2 + (ymatrix-yobj_list)**2)\n",
    "    \n",
    "    indices = np.argmin(distance_matrix, axis=0)\n",
    "    \"\"\"\n",
    "    # Make plot to check data\n",
    "    plt.figure(figsize=(16,16))\n",
    "    plt.scatter(xlist,ylist,c='b',s=4)\n",
    "    plt.scatter(xobj_list, yobj_list, c='red', s=2)\n",
    "    plt.plot([2000,2025],[0,0],c='r')\n",
    "    for i in range(nr_stars):\n",
    "    \tplt.plot([xobj_list[i],xlist[indices[i]]],[yobj_list[i],ylist[indices[i]]], linestyle='dashed',c='r',linewidth=1)\n",
    "    plt.title(f)\n",
    "    plt.show()\n",
    "    \"\"\"\n",
    "    return indices, np.diag(distance_matrix[indices])\n",
    "    #the diagonal gives the distance from each selected object to the closest object\n",
    "\n",
    "def distance(xobj,yobj, xlist,ylist):\n",
    "    'find the distance between target & objects round it, returns list with distances in pixels'\n",
    "    d = (xobj-xlist)**2 + (yobj-ylist)**2\n",
    "    return np.sqrt(d)\n"
   ]
  },
  {
   "cell_type": "code",
   "execution_count": null,
   "metadata": {},
   "outputs": [],
   "source": [
    "# Extract the magnitudes from the stars in 400\" radius around J0600\n",
    "import astropy.units as u\n",
    "from astropy.coordinates import SkyCoord\n",
    "from astroquery.gaia import Gaia\n",
    "\n",
    "# Coords of J0600: 90.00316332976436 -31.007910088843165\n",
    "coord = SkyCoord(ra=90.003163, dec=-31.007910, unit=(u.degree, u.degree), frame='icrs')\n",
    "radius = u.Quantity(0.25, u.degree)\n",
    "Gaia.ROW_LIMIT = -1\n",
    "j = Gaia.cone_search_async(coord, radius)\n",
    "r = j.get_results()\n",
    "r.pprint()"
   ]
  },
  {
   "cell_type": "code",
   "execution_count": null,
   "metadata": {},
   "outputs": [],
   "source": [
    "# Making a mask for the gaia data to extract the data from the relevant stars\n",
    "stars_arg, d = find_stars(star_coords[:,0],star_coords[:,1],np.array(r['ra']),np.array(r['dec']))\n",
    "gaiamask = stars_arg\n",
    "max_d = 1/3600 #if distance is bigger than 1\", it is to much\n",
    "if np.sum(d >= max_d) != 0:\n",
    "    print (\"Stars that are too distant\")\n",
    "    print (np.arange(5)[d >= max_d])\n",
    "\n",
    "# Get the gaia-colours for the selected stars in all filters\n",
    "gaia_c = np.array(r['phot_rp_mean_mag'][gaiamask]) - np.array(r['phot_g_mean_mag'][gaiamask])\n",
    "\n",
    "# Extract the Gaia J0600 data\n",
    "# Coords of J0600: 90.00316332976436 -31.007910088843165\n",
    "d = distance(90.00316332976436, -31.007910088843165, r['ra'],r['dec'])\n",
    "J0600_gaia = r[np.argmin(d)]\n",
    "\n",
    "# Extract gaia magnitudes & colour for J0600\n",
    "#J0600_gaiamag = {}\n",
    "#J0600_gaiamag[filt[0]] = J0600_gaia['phot_g_mean_mag'] #gaia filter g, not gp\n",
    "#J0600_gaiamag[filt[2]] = J0600_gaia['phot_rp_mean_mag']\n",
    "\n",
    "J0600_c = J0600_gaia['phot_rp_mean_mag']-J0600_gaia['phot_g_mean_mag']\n"
   ]
  },
  {
   "cell_type": "code",
   "execution_count": null,
   "metadata": {},
   "outputs": [],
   "source": [
    "plt.scatter(gaia_c, distance(90.00316332976436, -31.007910088843165, star_coords[:,0],star_coords[:,1]),c='b')\n",
    "plt.scatter(J0600_c,[0],c='r')\n",
    "plt.title(\"Distance from J0600 against gaia-colour\")\n",
    "plt.xlabel(\"Gaia-colour (rp-g)\")\n",
    "plt.ylabel(\"Distance (deg)\")\n",
    "plt.show()"
   ]
  },
  {
   "cell_type": "code",
   "execution_count": null,
   "metadata": {},
   "outputs": [],
   "source": [
    "# test of calibrated data\n",
    "plt.errorbar(caldata['BJD'],caldata['FLUX'],yerr=caldata['ERRFLUX'],fmt='.')\n",
    "#plt.gca().invert_yaxis()\n",
    "plt.show()"
   ]
  },
  {
   "cell_type": "code",
   "execution_count": null,
   "metadata": {},
   "outputs": [],
   "source": [
    "mx = -2.5*np.log10(flux)\n",
    "#mxerr = (2.5/np.log(10))*(fluxerr/flux)\n",
    "J0600_mx = -2.5*np.log10(J0600_flux)"
   ]
  },
  {
   "cell_type": "code",
   "execution_count": null,
   "metadata": {},
   "outputs": [],
   "source": [
    "from scipy import optimize\n",
    "\n",
    "# m_true = m_inst + b0c + b1c^2 + ...\n",
    "# m_inst = m_x + a0X + a1cX\n",
    "# m_true = m_x + a0X + a1cX + a2c + a3c^2 + ...\n",
    "\n",
    "def atmosph_ext(M, a0,a1):#,a2,a3):\n",
    "    \n",
    "    return M + a0 + (a1*c) #+ (a2*(c**2)) + (a3*(c**3))# + (a4*(c**4))\n",
    "\n",
    "tmp1 = []\n",
    "tmp2 = []\n",
    "for e in range(len(epoch)):\n",
    "\n",
    "    X = airmass[e]\n",
    "    M = mx[e]\n",
    "    c = copy.copy(gaia_c)\n",
    "\n",
    "    popt, pcov = optimize.curve_fit(atmosph_ext,M, star_mag, p0=[27,0],\\\n",
    "                                    bounds=([0,-10],[50,10],))\n",
    "    #popt, pcov = optimize.curve_fit(atmosph_ext,M, star_mag, p0=[27,0,0,0],\\\n",
    "    #                                bounds=([0,-10,-10,-10],[50,10,10,10],))\n",
    "    #popt, pcov = optimize.curve_fit(atmosph_ext,M, star_mag)#, p0=[27],bounds=([0],[50]))\n",
    "\n",
    "\n",
    "    tmp1.append(np.array(popt))\n",
    "    tmp2.append(np.sqrt(np.diag(pcov)))\n",
    "fit_result = np.array(tmp1)\n",
    "fit_resulterr = np.array(tmp2)\n",
    "print (fit_result)\n",
    "print (fit_resulterr)\n"
   ]
  },
  {
   "cell_type": "code",
   "execution_count": null,
   "metadata": {},
   "outputs": [],
   "source": [
    "for i in range(len(fit_result[0])):\n",
    "    plt.figure(figsize=(12,6))\n",
    "    plt.errorbar(airmass,fit_result[:,i],yerr=fit_resulterr[:,i],fmt='.', linewidth=0.3)\n",
    "    plt.show()\n",
    "\n",
    "print (np.median(fit_result,axis=0))\n"
   ]
  },
  {
   "cell_type": "code",
   "execution_count": null,
   "metadata": {},
   "outputs": [],
   "source": [
    "tmp1 = []\n",
    "tmp2 = []\n",
    "for e in range(len(epoch)):\n",
    "    c = copy.copy(gaia_c)\n",
    "    tmp1.append(atmosph_ext(mx[e],*fit_result[e]))\n",
    "    c = copy.copy(J0600_c)\n",
    "    tmp2.append(atmosph_ext(J0600_mx[e],*fit_result[e]))\n",
    "mag = np.array(tmp1)\n",
    "J0600_mag = np.array(tmp2)\n",
    "\n",
    "print (fit_result[e])\n",
    "\n",
    "print (mag)\n",
    "print (J0600_mag)"
   ]
  },
  {
   "cell_type": "code",
   "execution_count": null,
   "metadata": {},
   "outputs": [],
   "source": [
    "for s in range(5):\n",
    "    #plt.plot([np.min(epoch),np.max(epoch)], [star_mag[s]]*2, linestyle='--')\n",
    "    plt.errorbar(epoch,mag[:,s],fmt='.')\n",
    "plt.gca().invert_yaxis()\n",
    "plt.title(\"Callibrated reference star data\")\n",
    "plt.xlabel(\"Epoch (BJD)\")\n",
    "plt.ylabel(\"Magnitude (R-band?)\")\n",
    "plt.show()\n",
    "\n",
    "plt.errorbar(epoch,J0600_mag,fmt='.')\n",
    "plt.gca().invert_yaxis()\n",
    "plt.title(\"J0600 magnitude using atmospheric extinction model\")\n",
    "plt.xlabel(\"Epoch (BJD)\")\n",
    "plt.ylabel(\"Magnitude (R-band?)\")\n",
    "plt.show()"
   ]
  },
  {
   "cell_type": "code",
   "execution_count": null,
   "metadata": {},
   "outputs": [],
   "source": []
  },
  {
   "cell_type": "code",
   "execution_count": null,
   "metadata": {},
   "outputs": [],
   "source": []
  },
  {
   "cell_type": "code",
   "execution_count": null,
   "metadata": {},
   "outputs": [],
   "source": []
  }
 ],
 "metadata": {
  "kernelspec": {
   "display_name": "Python 3",
   "language": "python",
   "name": "python3"
  },
  "language_info": {
   "codemirror_mode": {
    "name": "ipython",
    "version": 3
   },
   "file_extension": ".py",
   "mimetype": "text/x-python",
   "name": "python",
   "nbconvert_exporter": "python",
   "pygments_lexer": "ipython3",
   "version": "3.8.5"
  }
 },
 "nbformat": 4,
 "nbformat_minor": 4
}
