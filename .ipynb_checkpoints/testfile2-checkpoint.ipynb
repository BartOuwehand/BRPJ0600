{
 "cells": [
  {
   "cell_type": "markdown",
   "metadata": {},
   "source": [
    "#### Script 2"
   ]
  },
  {
   "cell_type": "code",
   "execution_count": 5,
   "metadata": {},
   "outputs": [],
   "source": [
    "import numpy as np\n",
    "import matplotlib.pyplot as plt\n",
    "from astropy.io import fits\n",
    "from astropy import wcs\n",
    "from astropy.io import ascii\n",
    "from astropy.table import Table, Column, MaskedColumn\n",
    "%matplotlib inline\n",
    "\n",
    "SMALL_SIZE = 10*2                                        \n",
    "MEDIUM_SIZE = 12*2\n",
    "BIGGER_SIZE = 14*2\n",
    "\n",
    "plt.rc('font', size=SMALL_SIZE, family='serif')          # controls default text sizes\n",
    "plt.rc('axes', titlesize=SMALL_SIZE)                     # fontsize of the axes title\n",
    "plt.rc('axes', labelsize=MEDIUM_SIZE)                    # fontsize of the x and y labels\n",
    "plt.rc('xtick', labelsize=SMALL_SIZE, direction='in')    # fontsize of the tick labels\n",
    "plt.rc('ytick', labelsize=SMALL_SIZE, direction='in')    # fontsize of the tick labels\n",
    "plt.rc('legend', fontsize=SMALL_SIZE)                    # legend fontsize\n",
    "plt.rc('figure', titlesize=BIGGER_SIZE)                  # fontsize of the figure title\n",
    "plt.rc('figure', figsize='8, 6')                         # size of the figure, used to be '4, 3' in inches\n",
    "\n",
    "\n",
    "# script 2 - takes in standards.txt and a list of FITS files\n",
    "#\n",
    "# write out for each image:\n",
    "# loop throuhg the standards stars:\n",
    "#     find the photometry from the current FITS image\n",
    "#     IF star is not found (or bad data) write out NaN in the column\n",
    "#\n",
    "# write out for each image file:\n",
    "#\n",
    "# the name of the image file, the EPOCH, the FILTER, the AIRMASS, the FLUX and FLUXERR of J0600, (FLUX and FLUXERR for 20 stars)\n",
    "# use and ECSV format (because it remembers the names of the columns and deals with 'Quantity' columns too....)\n",
    "\n",
    "\n",
    "# make a plot of flux versus epoch (which is in MJD) for "
   ]
  },
  {
   "cell_type": "code",
   "execution_count": 53,
   "metadata": {},
   "outputs": [
    {
     "name": "stdout",
     "output_type": "stream",
     "text": [
      "Number of stars = 44\n",
      "Epoch = 59226.45471 MJD\n",
      "Filter = gp\n",
      "AIRMASS = 1.07476\n"
     ]
    }
   ],
   "source": [
    "# First write out for one file:\n",
    "#  the name of the image file, the EPOCH, the FILTER, the AIRMASS, the FLUX and FLUXERR of J0600, (FLUX and FLUXERR for 20 stars)\n",
    "#  use and ECSV format (because it remembers the names of the columns and deals with 'Quantity' columns too....)\n",
    "\n",
    "standards = ascii.read(\"standards.txt\", guess=False)\n",
    "coord_world = np.array([standards['RA'],standards['Dec']]).transpose()\n",
    "nr_stars = len(coord_world[:,0])\n",
    "print('Number of stars = {}'.format(nr_stars))\n",
    "\n",
    "\n",
    "filename = '..//data/coj1m003-fa19-20210112-0083-e91.fits.fz'\n",
    "\n",
    "hdu1 = fits.open(filename)\n",
    "\n",
    "imh = hdu1['SCI'].header\n",
    "phot = hdu1['cat'].data\n",
    "\n",
    "epoch = imh['MJD-OBS']\n",
    "obs_filter = imh['FILTER']\n",
    "airmass = imh['AIRMASS']\n",
    "pix_asec = imh['PIXSCALE'] # Nominal pixel scale on sky [arcsec/pixel]\n",
    "print('Epoch = {:.5f} MJD'.format(epoch))\n",
    "print('Filter = {}'.format(obs_filter))\n",
    "print('AIRMASS = {:.5f}'.format(airmass))"
   ]
  },
  {
   "cell_type": "code",
   "execution_count": 51,
   "metadata": {},
   "outputs": [],
   "source": [
    "# Transform coordinates from realworld to pixels in image\n",
    "w = wcs.WCS(hdu1['SCI'].header)\n",
    "\n",
    "coord = w.wcs_world2pix(coord_world,0)"
   ]
  },
  {
   "cell_type": "code",
   "execution_count": 80,
   "metadata": {},
   "outputs": [
    {
     "data": {
      "image/png": "[encoded data removed]",
      "text/plain": [
       "<Figure size 576x432 with 1 Axes>"
      ]
     },
     "metadata": {
      "needs_background": "light"
     },
     "output_type": "display_data"
    },
    {
     "name": "stdout",
     "output_type": "stream",
     "text": [
      "[ 59 241 286 281 690 686 382 197 320 374 227 753  32 569 292 296 742 423\n",
      " 175 159 234 105  83 335 660 446 727 403 611 209 220 679 344 208 721 724\n",
      "  34   0 630 526 346 662 776 563]\n",
      "[5.17893149e-11 4.41104930e-11 8.28089807e-11 4.77484718e-11\n",
      " 1.25947983e-10 2.32999780e-11 1.86668110e-11 6.23704684e-11\n",
      " 2.36392090e-11 5.87751056e-11 1.86668110e-11 1.45038743e-11\n",
      " 4.25048921e-11 6.17695230e-11 7.87727558e-11 3.89732010e-11\n",
      " 5.53915128e-11 6.39304263e-11 1.08943315e-10 3.76761679e-11\n",
      " 9.81140463e-11 5.57362404e-11 7.55294829e-11 4.15117334e-11\n",
      " 4.15042603e-11 5.90423373e-11 7.06323798e-11 2.14503896e-11\n",
      " 5.24991981e-11 5.56745234e-11 9.44060867e-11 4.94818615e-11\n",
      " 5.55839121e-11 2.90727276e-11 4.43512739e-11 1.20850766e-11\n",
      " 6.41258265e-11 4.87619798e-11 5.83163613e-11 1.78535252e-10\n",
      " 3.95656329e-11 1.13554429e-10 6.07543142e-11 7.99250003e-11]\n",
      "(44,)\n",
      "[[ 90.00316333 -31.00791009]]\n"
     ]
    }
   ],
   "source": [
    "# functie(lijst met pixel_coordinaten van standards, lijst met pixel coordinaten huidige sterren):\n",
    "#   reken afstanden uit\n",
    "#   Test of afstand voldoende klein is (print afstanden)\n",
    "#   \n",
    "#   return index dichtbijzijndste ster voor elke ingevoerde ster\n",
    "\n",
    "def find_stars(xobj_list, yobj_list, xlist, ylist):\n",
    "    #print (xobj_list)\n",
    "    #print (yobj_list)\n",
    "    #print (xlist)\n",
    "    #print (ylist)\n",
    "    \n",
    "    plt.scatter(xlist-2048,ylist-2048,c='b',)\n",
    "    plt.scatter(xobj_list-2048, yobj_list-2048, c='white',marker='.')\n",
    "    plt.axis(xmin=-600,xmax=600,ymin=-600,ymax=600)\n",
    "    plt.show()\n",
    "    \n",
    "    # Make a matrix with each column the same xlist or ylist.\n",
    "    # The number of columns is the number of objects in standards.txt\n",
    "    xmatrix = np.array(list(xlist)*len(xobj_list)).reshape([len(xobj_list),len(xlist)]).transpose()\n",
    "    ymatrix = np.array(list(ylist)*len(yobj_list)).reshape([len(yobj_list),len(ylist)]).transpose()\n",
    "    \n",
    "    distance_matrix = np.sqrt((xmatrix-xobj_list)**2 + (ymatrix-yobj_list)**2)\n",
    "    \n",
    "    indecis = np.argmin(distance_matrix, axis=0)\n",
    "    \n",
    "    return indecis, np.diag(distance_matrix[indecis]) #the daigonal gives the distance from each point to the \n",
    "#month_meanstdv = np.sum((np.transpose(temp)-np.array(list(month_mean)*len(year)).reshape([115,12]))**2,axis=0)\n",
    "# /(len(year)-1)\n",
    "\n",
    "stars_arg, d = find_stars(coord[:,0],coord[:,1], phot['x'], phot['y'])\n",
    "\n",
    "print (stars_arg)\n",
    "print (d)\n",
    "print (np.shape(d))\n",
    "\n",
    "print (w.wcs_pix2world([[phot['x'][stars_arg[0]], phot['y'][stars_arg[0]]]],0))\n"
   ]
  },
  {
   "cell_type": "code",
   "execution_count": 65,
   "metadata": {},
   "outputs": [],
   "source": [
    "flux_stars = np.zeros(nr_stars)\n",
    "fluxerr_stars = np.zeros(nr_stars)\n",
    "for i in range(nr_stars):\n",
    "    flux_stars[i] = phot['flux'][stars_arg[i]]\n",
    "    fluxerr_stars[i] = phot['fluxerr'][stars_arg[i]]"
   ]
  },
  {
   "cell_type": "code",
   "execution_count": null,
   "metadata": {},
   "outputs": [],
   "source": []
  },
  {
   "cell_type": "code",
   "execution_count": 27,
   "metadata": {},
   "outputs": [
    {
     "name": "stdout",
     "output_type": "stream",
     "text": [
      "../data/coj1m003-fa19-20210113-0098-e91.fits.fz\n",
      "../data/coj1m011-fa12-20210111-0235-e91.fits.fz\n",
      "../data/coj1m003-fa19-20210112-0084-e91.fits.fz\n",
      "../data/coj1m003-fa19-20210117-0070-e91.fits.fz\n",
      "../data/coj1m011-fa12-20210116-0174-e91.fits.fz\n",
      "../data/lsc1m004-fa03-20210111-0142-e91.fits.fz\n",
      "../data/cpt1m012-fa06-20210118-0060-e91.fits.fz\n",
      "../data/lsc1m004-fa03-20210111-0141-e91.fits.fz\n",
      "../data/coj1m011-fa12-20210112-0135-e91.fits.fz\n",
      "../data/coj1m003-fa19-20210113-0096-e91.fits.fz\n",
      "../data/lsc1m005-fa15-20210111-0074-e91.fits.fz\n",
      "../data/lsc1m004-fa03-20210116-0132-e91.fits.fz\n",
      "../data/cpt1m013-fa14-20210111-0063-e91.fits.fz\n",
      "../data/lsc1m004-fa03-20210111-0191-e91.fits.fz\n",
      "../data/coj1m011-fa12-20210113-0148-e91.fits.fz\n",
      "../data/cpt1m013-fa14-20210111-0061-e91.fits.fz\n",
      "../data/cpt1m012-fa06-20210118-0059-e91.fits.fz\n",
      "../data/coj1m011-fa12-20210111-0234-e91.fits.fz\n",
      "../data/coj1m003-fa19-20210113-0097-e91.fits.fz\n",
      "../data/lsc1m005-fa15-20210111-0072-e91.fits.fz\n",
      "../data/lsc1m005-fa15-20210111-0073-e91.fits.fz\n",
      "../data/lsc1m004-fa03-20210112-0110-e91.fits.fz\n",
      "../data/cpt1m013-fa14-20210111-0062-e91.fits.fz\n",
      "../data/coj1m003-fa19-20210112-0083-e91.fits.fz\n",
      "../data/coj1m011-fa12-20210113-0150-e91.fits.fz\n",
      "../data/coj1m003-fa19-20210112-0085-e91.fits.fz\n",
      "../data/lsc1m004-fa03-20210111-0190-e91.fits.fz\n",
      "../data/coj1m011-fa12-20210112-0134-e91.fits.fz\n",
      "../data/coj1m011-fa12-20210116-0173-e91.fits.fz\n",
      "../data/coj1m011-fa12-20210112-0136-e91.fits.fz\n",
      "../data/cpt1m012-fa06-20210120-0091-e91.fits.fz\n",
      "../data/lsc1m004-fa03-20210112-0111-e91.fits.fz\n",
      "../data/coj1m011-fa12-20210111-0236-e91.fits.fz\n",
      "../data/cpt1m012-fa06-20210120-0092-e91.fits.fz\n",
      "../data/lsc1m004-fa03-20210116-0133-e91.fits.fz\n",
      "../data/coj1m003-fa19-20210117-0068-e91.fits.fz\n",
      "../data/coj1m011-fa12-20210113-0149-e91.fits.fz\n",
      "../data/lsc1m004-fa03-20210112-0112-e91.fits.fz\n",
      "../data/cpt1m012-fa06-20210118-0058-e91.fits.fz\n",
      "../data/coj1m003-fa19-20210117-0069-e91.fits.fz\n",
      "../data/lsc1m004-fa03-20210111-0140-e91.fits.fz\n",
      "../data/coj1m011-fa12-20210116-0175-e91.fits.fz\n",
      "../data/coj1m003-fa19-20210116-0390-e91.fits.fz\n",
      "../data/lsc1m004-fa03-20210111-0192-e91.fits.fz\n",
      "../data/lsc1m004-fa03-20210116-0131-e91.fits.fz\n"
     ]
    }
   ],
   "source": [
    "#use this code to select all images\n",
    "from pathlib import Path\n",
    "\n",
    "#selects all names in ../data/\n",
    "for name in Path('..//data/').rglob('*e91.fits.fz'):\n",
    "    print (name)"
   ]
  }
 ],
 "metadata": {
  "kernelspec": {
   "display_name": "Python 3",
   "language": "python",
   "name": "python3"
  },
  "language_info": {
   "codemirror_mode": {
    "name": "ipython",
    "version": 3
   },
   "file_extension": ".py",
   "mimetype": "text/x-python",
   "name": "python",
   "nbconvert_exporter": "python",
   "pygments_lexer": "ipython3",
   "version": "3.8.5"
  }
 },
 "nbformat": 4,
 "nbformat_minor": 4
}
