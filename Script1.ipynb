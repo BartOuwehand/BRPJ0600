{
 "cells": [
  {
   "cell_type": "markdown",
   "metadata": {},
   "source": [
    "### Script 1\n",
    "This script will extract the relevant data from the fits files so when manimulating the data, one does not have to open all fits files"
   ]
  },
  {
   "cell_type": "code",
   "execution_count": 1,
   "metadata": {},
   "outputs": [],
   "source": [
    "import numpy as np\n",
    "import matplotlib.pyplot as plt\n",
    "from astropy.io import fits\n",
    "from astropy import wcs\n",
    "from astropy.io import ascii"
   ]
  },
  {
   "cell_type": "code",
   "execution_count": 59,
   "metadata": {},
   "outputs": [
    {
     "name": "stdout",
     "output_type": "stream",
     "text": [
      "Epoch = 59226.45471 MJD\n",
      "AIRMASS = 1.07476\n"
     ]
    }
   ],
   "source": [
    "hdu1 = fits.open('..//data/coj1m003-fa19-20210112-0083-e91.fits.fz')\n",
    "\n",
    "imh = hdu1['SCI'].header\n",
    "phot = hdu1['cat'].data\n",
    "\n",
    "epoch = imh['MJD-OBS']\n",
    "airmass = imh['AIRMASS']\n",
    "print('Epoch = {:.5f} MJD'.format(epoch))\n",
    "print('AIRMASS = {:.5f}'.format(airmass))"
   ]
  },
  {
   "cell_type": "code",
   "execution_count": null,
   "metadata": {},
   "outputs": [],
   "source": [
    "def find_min(xobj,yobj, xlist, ylist):\n",
    "    'find the index of the star closest to position xobj, yobj'\n",
    "    dr = (xlist-xobj)**2 + (ylist-yobj)**2\n",
    "    # find min dr \n",
    "    ind = np.argmin(dr)\n",
    "    print(np.sqrt(dr[ind]))\n",
    "    return ind\n",
    "\n",
    "\n",
    "def distance(xobj,yobj,xlist,ylist):\n",
    "    "
   ]
  },
  {
   "cell_type": "code",
   "execution_count": 63,
   "metadata": {},
   "outputs": [
    {
     "name": "stdout",
     "output_type": "stream",
     "text": [
      "[2053.56443333 2061.66291876]\n"
     ]
    }
   ],
   "source": [
    "# read in the World Coordinate System (WCS) from the FITS file\n",
    "# Parse the WCS keywords in the primary HDU\n",
    "w = wcs.WCS(hdu1['SCI'].header)\n",
    "\n",
    "# star coords in pix -  RA and Dec in decimal degrees\n",
    "star_crd = w.wcs_world2pix([[90.0033, -31.0076]], 0)[0] #wcs_wordl2pix returns 2d array so [0] to make it 1d\n",
    "print(star_crd)\n",
    "# Coords of J0600: RA 90.0033 (06:00:00.792) Dec -31.0076 (-31:00:27.36)\n",
    "# Epoch 2000 #Don't know what this means\n",
    "\n",
    "# Hier een loopje plaatsen om de coordinaten van alle sterren naar pixel coordinaten te verplaatsen\n",
    "# (of dat niet doen en in de pixel coordinaten werken en het later converteren (als je wilt))\n"
   ]
  },
  {
   "cell_type": "code",
   "execution_count": 56,
   "metadata": {},
   "outputs": [
    {
     "name": "stdout",
     "output_type": "stream",
     "text": [
      "801\n"
     ]
    },
    {
     "data": {
      "image/png": "[encoded data removed]",
      "text/plain": [
       "<Figure size 432x288 with 1 Axes>"
      ]
     },
     "metadata": {
      "needs_background": "light"
     },
     "output_type": "display_data"
    }
   ],
   "source": [
    "#print (hdu1['cat'].header)\n",
    "#print (phot['x'])\n",
    "#print (phot['flux'])\n",
    "plt.plot(phot['flux'])\n",
    "print(len(phot['x']))"
   ]
  },
  {
   "cell_type": "code",
   "execution_count": null,
   "metadata": {},
   "outputs": [],
   "source": []
  }
 ],
 "metadata": {
  "kernelspec": {
   "display_name": "Python 3",
   "language": "python",
   "name": "python3"
  },
  "language_info": {
   "codemirror_mode": {
    "name": "ipython",
    "version": 3
   },
   "file_extension": ".py",
   "mimetype": "text/x-python",
   "name": "python",
   "nbconvert_exporter": "python",
   "pygments_lexer": "ipython3",
   "version": "3.8.5"
  }
 },
 "nbformat": 4,
 "nbformat_minor": 4
}
